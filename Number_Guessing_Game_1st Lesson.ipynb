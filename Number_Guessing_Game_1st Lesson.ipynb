{
  "nbformat": 4,
  "nbformat_minor": 0,
  "metadata": {
    "colab": {
      "provenance": []
    },
    "kernelspec": {
      "name": "python3",
      "display_name": "Python 3"
    },
    "language_info": {
      "name": "python"
    }
  },
  "cells": [
    {
      "cell_type": "code",
      "source": [],
      "metadata": {
        "id": "Mau4NoEeCpeF"
      },
      "execution_count": null,
      "outputs": []
    },
    {
      "cell_type": "markdown",
      "source": [
        "# **Number Guessing Game Explanation**\n",
        "\n",
        "## **Learning Objectives**\n",
        " After this micro-training, you will be able to:\n",
        "\n",
        "1.   Define a module element.\n",
        "\n",
        "2.   Identify random module elements and its importance.\n",
        "\n",
        "3.   Use the random module elements."
      ],
      "metadata": {
        "id": "eSs1wUfDCqjv"
      }
    },
    {
      "cell_type": "markdown",
      "source": [
        "## Module Elements\n",
        "\n",
        "### What is a Module?\n",
        "\n",
        "A file containing Python code that has defined functions, classes, and variables and can be imported into other Python scripts.\n",
        "\n",
        "### What are Module Elements?\n",
        "\n",
        "**Module Elements** refer to the functions, variables, and classes that are inside a module ().\n",
        "\n",
        "#### Plain Language Analogy:\n",
        "\n",
        "A **Module** is like a grocery delivery box 📦 and **Module Elements** are the essentials inside the delivery box.\n",
        "\n",
        "*  Instead of shopping for individual ingredients (writing code from scratch), you get pre-packed essentials (functions, classes, etc.).\n",
        "* You can use these ingredients in multiple recipes (different Python scripts), saving time and effort.\n",
        "\n",
        "### Random Module Elements\n",
        "\n",
        "The random module provides different tools (elements) for working with random numbers, such as:\n",
        "\n",
        "Functions (e.g., random.random(), random.randint())\n",
        "Constants (e.g., random.seed())\n",
        "Classes (e.g., random.Random)\n"
      ],
      "metadata": {
        "id": "YJH0pnS8GIav"
      }
    },
    {
      "cell_type": "code",
      "source": [
        "# Exercise 1: Generate a random number\n",
        "# Step 1: Import the \"random\" Python module/script\n",
        "import random\n"
      ],
      "metadata": {
        "id": "Ip51dAfMEXXb"
      },
      "execution_count": null,
      "outputs": []
    },
    {
      "cell_type": "code",
      "execution_count": null,
      "metadata": {
        "colab": {
          "base_uri": "https://localhost:8080/"
        },
        "id": "CQGs1jVu3SaW",
        "outputId": "b1fec515-2fef-47c7-db18-968d130086be"
      },
      "outputs": [
        {
          "output_type": "stream",
          "name": "stdout",
          "text": [
            "0.9270891089442467 (<class 'type'>, 0.9270891089442467)\n"
          ]
        }
      ],
      "source": [
        "# Step 2: Define \"r\" and print.\n",
        "\n",
        "r = random.random()\n",
        "print(r,(type, r))\n"
      ]
    },
    {
      "cell_type": "code",
      "source": [
        "# Exercise 2: Round it off by multiplying 1000\n",
        "r = round(r * 1000)\n",
        "print (r)"
      ],
      "metadata": {
        "colab": {
          "base_uri": "https://localhost:8080/"
        },
        "id": "3K68rpjjRCfk",
        "outputId": "969a3866-593a-4ca0-e140-1289b4086fa8"
      },
      "execution_count": null,
      "outputs": [
        {
          "output_type": "stream",
          "name": "stdout",
          "text": [
            "849\n"
          ]
        }
      ]
    },
    {
      "cell_type": "markdown",
      "source": [
        "## **Random.randint(min, max)**\n",
        "\n",
        "Definition: random.randint(min, max) picks a random whole number between min and max (including both).\n",
        "\n",
        "##**Plain Language Analogy:**\n",
        "It’s like rolling a custom dice where you choose the smallest and largest number.\n",
        "\n",
        "* If you roll a standard die (random.randint(1, 6)), you could get 1, 2, 3, 4, 5, or 6.\n",
        "* If you roll a raffle ticket generator (random.randint(100, 500)), you could get any whole number between 100 and 500.\n",
        "\n",
        "\n"
      ],
      "metadata": {
        "id": "rzVlSTneSbXZ"
      }
    },
    {
      "cell_type": "code",
      "source": [
        "# Exercise 3: Give me a random integer from 1 - 1,000\n",
        "r = random.randint (1,1000)\n",
        "print (r)\n"
      ],
      "metadata": {
        "colab": {
          "base_uri": "https://localhost:8080/"
        },
        "id": "MzhdDSjUSZRi",
        "outputId": "033b7719-46b2-42ad-a146-944f19763868"
      },
      "execution_count": null,
      "outputs": [
        {
          "output_type": "stream",
          "name": "stdout",
          "text": [
            "391\n"
          ]
        }
      ]
    },
    {
      "cell_type": "code",
      "source": [
        "# Exercise 4: Give me a random integer from 1 - 2\n",
        "r=random.randint (1,2)\n",
        "print (r)\n",
        "\n",
        "# Note: it includes the max number and minimum number"
      ],
      "metadata": {
        "colab": {
          "base_uri": "https://localhost:8080/"
        },
        "id": "htP54ccwW6jT",
        "outputId": "9d4def3f-7f77-4d12-dc90-92c03c43de96"
      },
      "execution_count": null,
      "outputs": [
        {
          "output_type": "stream",
          "name": "stdout",
          "text": [
            "1\n"
          ]
        }
      ]
    },
    {
      "cell_type": "code",
      "source": [
        "# Exercise 5:\n",
        "r=random.randint (0,2)\n",
        "print (r)\n",
        "\n",
        "# Note: In place of the 0, you can not leave it blank."
      ],
      "metadata": {
        "colab": {
          "base_uri": "https://localhost:8080/"
        },
        "id": "BenoGrDNXV4s",
        "outputId": "365d324f-3126-4bbe-f9c7-941a91aacd6c"
      },
      "execution_count": null,
      "outputs": [
        {
          "output_type": "stream",
          "name": "stdout",
          "text": [
            "1\n"
          ]
        }
      ]
    },
    {
      "cell_type": "code",
      "source": [
        "# Exercise 6: Generate 2 random SAT scores-- one Math and one English\n",
        "\n",
        "english_score = random.randint(200, 800)\n",
        "print (('English Score:'), english_score)\n",
        "\n",
        "math_score = random.randint(200, 800)\n",
        "print (('Math Score:'), math_score )\n",
        "\n",
        "SAT_total_score = math_score + english_score\n",
        "print (('SAT Score:'), SAT_total_score)\n",
        "\n",
        "\n"
      ],
      "metadata": {
        "colab": {
          "base_uri": "https://localhost:8080/"
        },
        "id": "O40K6HklXsdF",
        "outputId": "dfbf73e3-0581-4dac-8957-8689f824ba71"
      },
      "execution_count": null,
      "outputs": [
        {
          "output_type": "stream",
          "name": "stdout",
          "text": [
            "English Score: 592\n",
            "Math Score: 367\n",
            "SAT Score: 959\n",
            "This is not considered a competitive score. You should consider re-taking the SAT.\n"
          ]
        }
      ]
    },
    {
      "cell_type": "code",
      "source": [
        "# Exercise 7: Print a message based on the random generated SAT score.\n",
        "\n",
        "competitive_score = 1210\n",
        "message = \"\"\n",
        "if competitive_score > SAT_total_score:\n",
        "  message = \"This is not considered a competitive score. You should consider re-taking the SAT.\"\n",
        "elif competitive_score < SAT_total_score:\n",
        "  message = \"This is considered a competitive score. Good job!\"\n",
        "# else:\n",
        "  # message = \"we'll see\"\n",
        "print(message)"
      ],
      "metadata": {
        "id": "LrZLTc7hiu-J"
      },
      "execution_count": null,
      "outputs": []
    },
    {
      "cell_type": "code",
      "source": [
        "# Exercise 8: Make the scores end in 0.\n",
        "SAT_score_final = round(SAT_total_score, -1)\n",
        "print (SAT_score_final)\n",
        "\n",
        "# Note: round(SAT_score, -1) rounds the number to the nearest multiple of 10.\n",
        "# Example:\n",
        "# round(1213, -1) → 1210\n",
        "# round(1207, -1) → 1210\n",
        "# round(1985, -1) → 1990"
      ],
      "metadata": {
        "colab": {
          "base_uri": "https://localhost:8080/"
        },
        "id": "q719XzrpjPvW",
        "outputId": "9209a356-cfc8-4c3e-ae7e-f2da4c39c40e"
      },
      "execution_count": null,
      "outputs": [
        {
          "output_type": "stream",
          "name": "stdout",
          "text": [
            "960\n"
          ]
        }
      ]
    },
    {
      "cell_type": "code",
      "source": [
        "# Exercise 9: Generate and print one Olympic year\n",
        "# min: 1896, max: 2024 (1896, 1900, 1904, 1908, 1912, 1916, 1920, 1924 ... 2012, 2016, 2020, 2024)\n",
        "import random\n",
        "\n",
        "olympic_year = random.randint (1986, 2024)\n",
        "print (('Olympic year:'), olympic_year)"
      ],
      "metadata": {
        "colab": {
          "base_uri": "https://localhost:8080/"
        },
        "id": "yQm8MjpD6cTO",
        "outputId": "f098bfcc-0049-43fb-bd41-eda49ec4b2a6"
      },
      "execution_count": null,
      "outputs": [
        {
          "output_type": "stream",
          "name": "stdout",
          "text": [
            "Olympic year: 1996\n"
          ]
        }
      ]
    },
    {
      "cell_type": "markdown",
      "source": [
        "# ** Random.randrange (min, max, step) **\n",
        "\n",
        "Definition: random.randrange(min, max, step) is a function from Python’s random module that returns a random integer selected from a range of numbers with a specified step.\n",
        "\n",
        "Use case: Use random.randrange(start, stop, step) when you need a random integer from a sequence with a step (e.g., picking only even numbers or multiples of 5).\n",
        "\n",
        "## Plain Language Analogy:\n",
        "\n",
        "random.randrange(min, max, step) is like picking a single number from a hat that only contains numbers that follow a step pattern (like every 2nd or 3rd number).\n",
        "\n",
        "\n"
      ],
      "metadata": {
        "id": "vJXaW9Jn_Oqg"
      }
    },
    {
      "cell_type": "code",
      "source": [
        "# Exercise 10: Generate and print one Olympic year\n",
        "# min: 1896, max: 2024 (1896, 1900, 1904, 1908, 1912, 1916, 1920, 1924 ... 2012, 2016, 2020, 2024)\n",
        "import random\n",
        "\n",
        "olympic_year = random.randrange (1986, 2024, 4)\n",
        "print (('Olympic year:'), olympic_year)"
      ],
      "metadata": {
        "colab": {
          "base_uri": "https://localhost:8080/"
        },
        "id": "Bh_od33H-RCj",
        "outputId": "5f84e0c0-f4bf-4258-fd73-8501d28d9552"
      },
      "execution_count": null,
      "outputs": [
        {
          "output_type": "stream",
          "name": "stdout",
          "text": [
            "Olympic year: 2018\n"
          ]
        }
      ]
    },
    {
      "cell_type": "code",
      "source": [
        "# Exercise 11: Make the SAT scores end in 0.\n",
        "SAT_score_final1 = random.randrange (800, 1800, 10)\n",
        "print (SAT_score_final1)\n"
      ],
      "metadata": {
        "colab": {
          "base_uri": "https://localhost:8080/"
        },
        "id": "m7l124wFF55w",
        "outputId": "e0400cd6-8af0-4cce-c5a5-96c5ba515983"
      },
      "execution_count": null,
      "outputs": [
        {
          "output_type": "stream",
          "name": "stdout",
          "text": [
            "1470\n"
          ]
        }
      ]
    }
  ]
}
